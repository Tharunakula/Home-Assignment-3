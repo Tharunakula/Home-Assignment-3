{
  "cells": [
    {
      "cell_type": "markdown",
      "metadata": {
        "id": "view-in-github",
        "colab_type": "text"
      },
      "source": [
        "<a href=\"https://colab.research.google.com/github/Tharunakula/Home-Assignment-3/blob/main/Q3%20Implementing%20an%20RNN%20for%20Text%20Generation%20.ipynb\" target=\"_parent\"><img src=\"https://colab.research.google.com/assets/colab-badge.svg\" alt=\"Open In Colab\"/></a>"
      ]
    },
    {
      "cell_type": "code",
      "source": [
        "import tensorflow as tf\n",
        "import numpy as np\n",
        "import random\n",
        "import sys\n",
        "\n",
        "# 1. Load a text dataset\n",
        "path_to_file = tf.keras.utils.get_file('shakespeare.txt', 'https://storage.googleapis.com/download.tensorflow.org/data/shakespeare.txt')\n",
        "text = open(path_to_file, 'rb').read().decode(encoding='utf-8')\n",
        "text = text.lower()  # Lowercase for simplicity\n",
        "\n",
        "# 2. Convert text into sequences\n",
        "chars = sorted(list(set(text)))\n",
        "char_indices = dict((c, i) for i, c in enumerate(chars))\n",
        "indices_char = dict((i, c) for i, c in enumerate(chars))\n",
        "\n",
        "maxlen = 40  # Sequence length\n",
        "step = 3\n",
        "sentences = []\n",
        "next_chars = []\n",
        "for i in range(0, len(text) - maxlen, step):\n",
        "    sentences.append(text[i: i + maxlen])\n",
        "    next_chars.append(text[i + maxlen])\n",
        "\n",
        "x = np.zeros((len(sentences), maxlen, len(chars)), dtype=np.bool)\n",
        "y = np.zeros((len(sentences), len(chars)), dtype=np.bool)\n",
        "for i, sentence in enumerate(sentences):\n",
        "    for t, char in enumerate(sentence):\n",
        "        x[i, t, char_indices[char]] = 1\n",
        "    y[i, char_indices[next_chars[i]]] = 1\n",
        "\n",
        "# 3. Define the RNN model\n",
        "model = tf.keras.models.Sequential([\n",
        "    tf.keras.layers.LSTM(128, input_shape=(maxlen, len(chars))),\n",
        "    tf.keras.layers.Dense(len(chars), activation='softmax')\n",
        "])\n",
        "\n",
        "# 4. Train the model and generate text\n",
        "model.compile(optimizer='adam', loss='categorical_crossentropy')\n",
        "\n",
        "def sample(preds, temperature=1.0):\n",
        "    preds = np.asarray(preds).astype('float64')\n",
        "    preds = np.log(preds) / temperature\n",
        "    exp_preds = np.exp(preds)\n",
        "    preds = exp_preds / np.sum(exp_preds)\n",
        "    probas = np.random.multinomial(1, preds, 1)\n",
        "    return np.argmax(probas)\n",
        "\n",
        "def generate_text(length, temperature):\n",
        "    start_index = random.randint(0, len(text) - maxlen - 1)\n",
        "    generated = text[start_index: start_index + maxlen]\n",
        "    print('--- Generating with seed: \"' + generated + '\"')\n",
        "\n",
        "    for i in range(length):\n",
        "        x_pred = np.zeros((1, maxlen, len(chars)))\n",
        "        for t, char in enumerate(generated):\n",
        "            x_pred[0, t, char_indices[char]] = 1.\n",
        "\n",
        "        preds = model.predict(x_pred, verbose=0)[0]\n",
        "        next_index = sample(preds, temperature)\n",
        "        next_char = indices_char[next_index]\n",
        "\n",
        "        generated += next_char\n",
        "        generated = generated[1:]\n",
        "\n",
        "        sys.stdout.write(next_char)\n",
        "        sys.stdout.flush()\n",
        "    print()\n",
        "\n",
        "model.fit(x, y, batch_size=128, epochs=20) #Train for more epochs to get better results.\n",
        "\n",
        "print(\"---Generating Text with Temperature 0.2---\")\n",
        "generate_text(400, 0.2)\n",
        "\n",
        "print(\"---Generating Text with Temperature 1.0---\")\n",
        "generate_text(400, 1.0)\n",
        "\n",
        "print(\"---Generating Text with Temperature 1.2---\")\n",
        "generate_text(400, 1.2)\n",
        "\n",
        "# 5. Temperature scaling\n",
        "# Temperature scaling controls the randomness of text generation.\n",
        "# A lower temperature (e.g., 0.2) makes the model more confident in its\n",
        "# predictions, resulting in more predictable and less surprising text.\n",
        "# A higher temperature (e.g., 1.0 or 1.2) increases the randomness,\n",
        "# leading to more diverse and potentially more creative text, but also more errors.\n",
        "\n",
        "#A temperature of zero would cause the model to always chose the most likely character."
      ],
      "metadata": {
        "colab": {
          "base_uri": "https://localhost:8080/"
        },
        "id": "I_yEIUKcJng-",
        "outputId": "8a664d49-6f2c-4418-9d9a-fcb623546157"
      },
      "execution_count": null,
      "outputs": [
        {
          "output_type": "stream",
          "name": "stdout",
          "text": [
            "Downloading data from https://storage.googleapis.com/download.tensorflow.org/data/shakespeare.txt\n",
            "\u001b[1m1115394/1115394\u001b[0m \u001b[32m━━━━━━━━━━━━━━━━━━━━\u001b[0m\u001b[37m\u001b[0m \u001b[1m0s\u001b[0m 0us/step\n"
          ]
        },
        {
          "output_type": "stream",
          "name": "stderr",
          "text": [
            "/usr/local/lib/python3.11/dist-packages/keras/src/layers/rnn/rnn.py:200: UserWarning: Do not pass an `input_shape`/`input_dim` argument to a layer. When using Sequential models, prefer using an `Input(shape)` object as the first layer in the model instead.\n",
            "  super().__init__(**kwargs)\n"
          ]
        },
        {
          "output_type": "stream",
          "name": "stdout",
          "text": [
            "Epoch 1/20\n",
            "\u001b[1m2905/2905\u001b[0m \u001b[32m━━━━━━━━━━━━━━━━━━━━\u001b[0m\u001b[37m\u001b[0m \u001b[1m276s\u001b[0m 94ms/step - loss: 2.5698\n",
            "Epoch 2/20\n",
            "\u001b[1m2905/2905\u001b[0m \u001b[32m━━━━━━━━━━━━━━━━━━━━\u001b[0m\u001b[37m\u001b[0m \u001b[1m276s\u001b[0m 95ms/step - loss: 1.9744\n",
            "Epoch 3/20\n",
            "\u001b[1m2905/2905\u001b[0m \u001b[32m━━━━━━━━━━━━━━━━━━━━\u001b[0m\u001b[37m\u001b[0m \u001b[1m274s\u001b[0m 94ms/step - loss: 1.8016\n",
            "Epoch 4/20\n",
            "\u001b[1m2905/2905\u001b[0m \u001b[32m━━━━━━━━━━━━━━━━━━━━\u001b[0m\u001b[37m\u001b[0m \u001b[1m275s\u001b[0m 95ms/step - loss: 1.7036\n",
            "Epoch 5/20\n",
            "\u001b[1m2905/2905\u001b[0m \u001b[32m━━━━━━━━━━━━━━━━━━━━\u001b[0m\u001b[37m\u001b[0m \u001b[1m319s\u001b[0m 93ms/step - loss: 1.6414\n",
            "Epoch 6/20\n",
            "\u001b[1m2905/2905\u001b[0m \u001b[32m━━━━━━━━━━━━━━━━━━━━\u001b[0m\u001b[37m\u001b[0m \u001b[1m276s\u001b[0m 95ms/step - loss: 1.5906\n",
            "Epoch 7/20\n",
            "\u001b[1m2905/2905\u001b[0m \u001b[32m━━━━━━━━━━━━━━━━━━━━\u001b[0m\u001b[37m\u001b[0m \u001b[1m320s\u001b[0m 94ms/step - loss: 1.5492\n",
            "Epoch 8/20\n",
            "\u001b[1m2905/2905\u001b[0m \u001b[32m━━━━━━━━━━━━━━━━━━━━\u001b[0m\u001b[37m\u001b[0m \u001b[1m270s\u001b[0m 93ms/step - loss: 1.5150\n",
            "Epoch 9/20\n",
            "\u001b[1m2905/2905\u001b[0m \u001b[32m━━━━━━━━━━━━━━━━━━━━\u001b[0m\u001b[37m\u001b[0m \u001b[1m272s\u001b[0m 94ms/step - loss: 1.4901\n",
            "Epoch 10/20\n",
            "\u001b[1m2905/2905\u001b[0m \u001b[32m━━━━━━━━━━━━━━━━━━━━\u001b[0m\u001b[37m\u001b[0m \u001b[1m270s\u001b[0m 93ms/step - loss: 1.4711\n",
            "Epoch 11/20\n",
            "\u001b[1m2905/2905\u001b[0m \u001b[32m━━━━━━━━━━━━━━━━━━━━\u001b[0m\u001b[37m\u001b[0m \u001b[1m327s\u001b[0m 95ms/step - loss: 1.4522\n",
            "Epoch 12/20\n",
            "\u001b[1m 874/2905\u001b[0m \u001b[32m━━━━━━\u001b[0m\u001b[37m━━━━━━━━━━━━━━\u001b[0m \u001b[1m3:12\u001b[0m 95ms/step - loss: 1.4360"
          ]
        }
      ]
    },
    {
      "cell_type": "code",
      "source": [],
      "metadata": {
        "id": "FajIRw6UJpSj"
      },
      "execution_count": null,
      "outputs": []
    }
  ],
  "metadata": {
    "colab": {
      "name": "Welcome To Colab",
      "toc_visible": true,
      "provenance": [],
      "include_colab_link": true
    },
    "kernelspec": {
      "display_name": "Python 3",
      "name": "python3"
    }
  },
  "nbformat": 4,
  "nbformat_minor": 0
}