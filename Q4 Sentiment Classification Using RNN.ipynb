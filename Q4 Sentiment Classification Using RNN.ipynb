{
  "cells": [
    {
      "cell_type": "markdown",
      "metadata": {
        "id": "view-in-github",
        "colab_type": "text"
      },
      "source": [
        "<a href=\"https://colab.research.google.com/github/Tharunakula/Home-Assignment-3/blob/main/Q4%20Sentiment%20Classification%20Using%20RNN.ipynb\" target=\"_parent\"><img src=\"https://colab.research.google.com/assets/colab-badge.svg\" alt=\"Open In Colab\"/></a>"
      ]
    },
    {
      "cell_type": "code",
      "source": [
        "import tensorflow as tf\n",
        "from tensorflow.keras.preprocessing import sequence\n",
        "from tensorflow.keras.models import Sequential\n",
        "from tensorflow.keras.layers import Embedding, LSTM, Dense\n",
        "from sklearn.metrics import confusion_matrix, classification_report\n",
        "import matplotlib.pyplot as plt\n",
        "import seaborn as sns\n",
        "\n",
        "# 1. Load the IMDB dataset\n",
        "(x_train, y_train), (x_test, y_test) = tf.keras.datasets.imdb.load_data(num_words=10000) # num_words limits vocab\n",
        "\n",
        "# 2. Preprocess the text data\n",
        "max_review_length = 500\n",
        "x_train = sequence.pad_sequences(x_train, maxlen=max_review_length)\n",
        "x_test = sequence.pad_sequences(x_test, maxlen=max_review_length)\n",
        "\n",
        "# 3. Train an LSTM-based model\n",
        "embedding_vector_length = 32\n",
        "model = Sequential()\n",
        "model.add(Embedding(10000, embedding_vector_length, input_length=max_review_length))\n",
        "model.add(LSTM(100))\n",
        "model.add(Dense(1, activation='sigmoid'))\n",
        "model.compile(loss='binary_crossentropy', optimizer='adam', metrics=['accuracy'])\n",
        "\n",
        "model.fit(x_train, y_train, epochs=3, batch_size=64, validation_data=(x_test, y_test))\n",
        "\n",
        "# 4. Generate confusion matrix and classification report\n",
        "y_pred_probs = model.predict(x_test)\n",
        "y_pred = (y_pred_probs > 0.5).astype(int)\n",
        "\n",
        "cm = confusion_matrix(y_test, y_pred)\n",
        "cr = classification_report(y_test, y_pred)\n",
        "\n",
        "print(\"Confusion Matrix:\\n\", cm)\n",
        "print(\"\\nClassification Report:\\n\", cr)\n",
        "\n",
        "#Visualize Confusion Matrix\n",
        "sns.heatmap(cm, annot=True, fmt='d', cmap='Blues')\n",
        "plt.xlabel('Predicted')\n",
        "plt.ylabel('Actual')\n",
        "plt.title('Confusion Matrix')\n",
        "plt.show()\n",
        "\n",
        "# 5. Precision-recall tradeoff\n",
        "\"\"\"\n",
        "The precision-recall tradeoff is important in sentiment classification because it reflects the balance between correctly identifying positive sentiment (precision) and finding all positive sentiment instances (recall).\n",
        "\n",
        "* **Precision:** Measures how many of the reviews predicted as positive are actually positive. High precision means fewer false positives.\n",
        "* **Recall:** Measures how many of the actual positive reviews were correctly identified. High recall means fewer false negatives.\n",
        "\n",
        "In sentiment analysis, the importance of precision and recall can vary depending on the application:\n",
        "\n",
        "* **Customer service:** High precision might be preferred to avoid falsely flagging negative reviews, which could lead to unnecessary intervention.\n",
        "* **Market research:** High recall might be preferred to capture as many negative reviews as possible, even if it means some false positives, to understand customer sentiment comprehensively.\n",
        "* **Risk management:** High recall is extremely important. If a company is looking for online threats, such as threats of violence, it is far more important to catch every single threat, even if it means that some false positives are flagged.\n",
        "\"\"\""
      ],
      "metadata": {
        "colab": {
          "base_uri": "https://localhost:8080/",
          "height": 1000
        },
        "id": "OYmhyUAAuMPI",
        "outputId": "bd2e4101-2fdf-4842-e236-b7eebcc927ef"
      },
      "execution_count": 3,
      "outputs": [
        {
          "output_type": "stream",
          "name": "stdout",
          "text": [
            "Downloading data from https://storage.googleapis.com/tensorflow/tf-keras-datasets/imdb.npz\n",
            "\u001b[1m17464789/17464789\u001b[0m \u001b[32m━━━━━━━━━━━━━━━━━━━━\u001b[0m\u001b[37m\u001b[0m \u001b[1m0s\u001b[0m 0us/step\n",
            "Epoch 1/3\n"
          ]
        },
        {
          "output_type": "stream",
          "name": "stderr",
          "text": [
            "/usr/local/lib/python3.11/dist-packages/keras/src/layers/core/embedding.py:90: UserWarning: Argument `input_length` is deprecated. Just remove it.\n",
            "  warnings.warn(\n"
          ]
        },
        {
          "output_type": "stream",
          "name": "stdout",
          "text": [
            "\u001b[1m391/391\u001b[0m \u001b[32m━━━━━━━━━━━━━━━━━━━━\u001b[0m\u001b[37m\u001b[0m \u001b[1m376s\u001b[0m 955ms/step - accuracy: 0.6903 - loss: 0.5579 - val_accuracy: 0.8359 - val_loss: 0.3690\n",
            "Epoch 2/3\n",
            "\u001b[1m391/391\u001b[0m \u001b[32m━━━━━━━━━━━━━━━━━━━━\u001b[0m\u001b[37m\u001b[0m \u001b[1m382s\u001b[0m 955ms/step - accuracy: 0.8862 - loss: 0.2884 - val_accuracy: 0.8534 - val_loss: 0.3618\n",
            "Epoch 3/3\n",
            "\u001b[1m391/391\u001b[0m \u001b[32m━━━━━━━━━━━━━━━━━━━━\u001b[0m\u001b[37m\u001b[0m \u001b[1m382s\u001b[0m 954ms/step - accuracy: 0.9136 - loss: 0.2310 - val_accuracy: 0.8699 - val_loss: 0.3153\n",
            "\u001b[1m782/782\u001b[0m \u001b[32m━━━━━━━━━━━━━━━━━━━━\u001b[0m\u001b[37m\u001b[0m \u001b[1m72s\u001b[0m 92ms/step\n",
            "Confusion Matrix:\n",
            " [[10493  2007]\n",
            " [ 1246 11254]]\n",
            "\n",
            "Classification Report:\n",
            "               precision    recall  f1-score   support\n",
            "\n",
            "           0       0.89      0.84      0.87     12500\n",
            "           1       0.85      0.90      0.87     12500\n",
            "\n",
            "    accuracy                           0.87     25000\n",
            "   macro avg       0.87      0.87      0.87     25000\n",
            "weighted avg       0.87      0.87      0.87     25000\n",
            "\n"
          ]
        },
        {
          "output_type": "display_data",
          "data": {
            "text/plain": [
              "<Figure size 640x480 with 2 Axes>"
            ],
            "image/png": "[encoded data removed]"
          },
          "metadata": {}
        },
        {
          "output_type": "execute_result",
          "data": {
            "text/plain": [
              "'\\nThe precision-recall tradeoff is important in sentiment classification because it reflects the balance between correctly identifying positive sentiment (precision) and finding all positive sentiment instances (recall).\\n\\n* **Precision:** Measures how many of the reviews predicted as positive are actually positive. High precision means fewer false positives.\\n* **Recall:** Measures how many of the actual positive reviews were correctly identified. High recall means fewer false negatives.\\n\\nIn sentiment analysis, the importance of precision and recall can vary depending on the application:\\n\\n* **Customer service:** High precision might be preferred to avoid falsely flagging negative reviews, which could lead to unnecessary intervention.\\n* **Market research:** High recall might be preferred to capture as many negative reviews as possible, even if it means some false positives, to understand customer sentiment comprehensively.\\n* **Risk management:** High recall is extremely important. If a company is looking for online threats, such as threats of violence, it is far more important to catch every single threat, even if it means that some false positives are flagged.\\n'"
            ],
            "application/vnd.google.colaboratory.intrinsic+json": {
              "type": "string"
            }
          },
          "metadata": {},
          "execution_count": 3
        }
      ]
    },
    {
      "cell_type": "code",
      "source": [],
      "metadata": {
        "id": "fcDuQLIwHD2m"
      },
      "execution_count": null,
      "outputs": []
    }
  ],
  "metadata": {
    "colab": {
      "name": "Welcome To Colab",
      "toc_visible": true,
      "provenance": [],
      "include_colab_link": true
    },
    "kernelspec": {
      "display_name": "Python 3",
      "name": "python3"
    }
  },
  "nbformat": 4,
  "nbformat_minor": 0
}